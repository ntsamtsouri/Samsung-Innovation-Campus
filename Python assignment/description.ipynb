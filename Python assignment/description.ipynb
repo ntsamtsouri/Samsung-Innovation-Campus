{
 "cells": [
  {
   "cell_type": "markdown",
   "metadata": {},
   "source": [
    "<img src=\"https://upload.wikimedia.org/wikipedia/commons/2/24/Samsung_Logo.svg\" alt=\"drawing\" style=\"width:400px\" text align=\"left\"/>\n",
    "<img src=\"https://eltrun.org/wp-content/uploads/2020/10/eltrun_newlogo_EN-2-300x100.png.webp\" alt=\"drawing\" style=\"width:400px;\" text align=\"right\"/>"
   ]
  },
  {
   "cell_type": "markdown",
   "metadata": {},
   "source": [
    "# SAMSUNG INNOVATION CAMPUS – UPSKILLING DIGITALLY"
   ]
  },
  {
   "cell_type": "markdown",
   "metadata": {},
   "source": [
    "### Εργασία στην ανάλυση δεδομένων με τη χρήση της python "
   ]
  },
  {
   "cell_type": "markdown",
   "metadata": {},
   "source": [
    "#### Ερωτήματα που αφορούν την περιγραφή του dataset"
   ]
  },
  {
   "cell_type": "markdown",
   "metadata": {},
   "source": [
    "<ol>\n",
    "<li>Διαβάστε το αρχείο data.csv *</li>\n",
    "<li> Εκτυπώστε τις τελευταίες 5 εγγραφές του dataframe *</li>\n",
    "<li> Πόσες (αριθμό) και ποιες (ονόματα) στήλες (columns) έχει το dataset που φορτώσατε; *</li>\n",
    "<li> Ως τι τύπο δεδομένων αναγνωρίζει η βιβλιοθήκη pandas τις στήλες του dataset; *</li>\n",
    "<li> Υπάρχουν στήλες με τιμές που λείπουν; Κι αν ναι ποιες; (Ποιες στήλες έχουν missing values /NaN) *</li>\n",
    "<li> Ποιος ο συνολικός αριθμών των εγγραφών; (χωρίς τα headers) *</li>\n",
    "    <ol>"
   ]
  },
  {
   "cell_type": "markdown",
   "metadata": {},
   "source": [
    "#### Οδηγίες για τον καθαρισμό του dataset"
   ]
  },
  {
   "cell_type": "markdown",
   "metadata": {},
   "source": [
    "<ol>\n",
    "<li>Αφαιρέστε από το dataset όλες τις γραμμές (rows) που έχουν NaN (missing values) στις στήλες  'Description' ή/και 'CustomerID'. Tip δείτε τη μέθοδο [dropna](https://pandas.pydata.org/docs/reference/api/pandas.DataFrame.dropna.html) **</li> \n",
    "<li>Διαγράψτε όλες τις γραμμές που η περιγραφή της στήλης 'Description' είναι : \"AMAZON FEE\",\"Manual\", \"SAMPLES\", \"POSTAGE\" ή \"PACKING CHARGE\". (Μπορείτε να κάνετε τη διαγραφή με όποιον τρόπο επιθυμείτε, με μία ή περισσότερες γραμμές κώδικα, στόχος είναι να μείνουν οι σωστές εγγραφές) ***</li>\n",
    "<li>Αφαιρέστε απο το dataset όλες εγγραφές έχουν αρνητική τιμή στη στήλη 'Quantity' **</li>\n",
    "<li>Δημιουργήστε στήλη ονόματι ItemTotal που περιέχει ανά γραμμή το αποτέλεσμα της πράξης Quantity*UnitPrice για τον υπολογισμό του συνολικού κόστους ανά κατηγορία προϊόντων **</li>\n",
    "<ol>"
   ]
  },
  {
   "cell_type": "markdown",
   "metadata": {},
   "source": [
    "#### Ερωτήματα για την κατανόηση του dataset"
   ]
  },
  {
   "cell_type": "markdown",
   "metadata": {},
   "source": [
    "<ol>\n",
    "<li> Ποιος ο αριθμός των μοναδικών /διαφορετικών πελατών (μη λάβετε υπόψιν όσες εγγραφές έχουν ΝaΝ αντί για τιμή στο πεδίο του CustomerID)   **</li>\n",
    "<li> Με ποιες χώρες έχει μέχρι σήμερα συναλλαγές η εταιρεία; **</li>\n",
    "<li>Ποιο χρονικό διάστημα αφορούν τα δεδομένα που έχουμε διαθέσιμα; (Tip εύρεση της μέγιστης και της ελάχιστης τιμής της στήλης InvoiceDate) **</li>\n",
    "<li> Ποιο/ ποια προϊόν/τα μπορεί να αγοράσει ένας πελάτης που επιθυμεί να διαθέσει 100-150 ευρώ; ***</li>\n",
    "<li> Αν κάνουμε αναζήτηση στα προϊόντα (στις περιγραφές) με τον όρο \"HANDBAG\" ποια αποτελέσματα θα λάβουμε; (Tip δείτε τη μέθόδο contains https://pandas.pydata.org/docs/reference/api/pandas.Series.str.contains.html**</li>\n",
    "</ol>"
   ]
  },
  {
   "cell_type": "markdown",
   "metadata": {},
   "source": [
    "#### Επεξήγηση συμβόλων"
   ]
  },
  {
   "cell_type": "markdown",
   "metadata": {},
   "source": [
    "\\* Εύκολο ερώτημα\n",
    "\n",
    "\n",
    "** Μέτριας δυσκολίας ερώτημα\n",
    "\n",
    "\n",
    "*** Απαιτητικό ερώτημα\n",
    "\n",
    "\n",
    "Για απορίες/ερωτήσεις επικοινωνήστε μαζί μου στο mskiada@aueb.gr"
   ]
  },
  {
   "cell_type": "code",
   "execution_count": null,
   "metadata": {},
   "outputs": [],
   "source": []
  }
 ],
 "metadata": {
  "kernelspec": {
   "display_name": "Python 3.7 (tensorflow)",
   "language": "python",
   "name": "tensorflow"
  },
  "language_info": {
   "codemirror_mode": {
    "name": "ipython",
    "version": 3
   },
   "file_extension": ".py",
   "mimetype": "text/x-python",
   "name": "python",
   "nbconvert_exporter": "python",
   "pygments_lexer": "ipython3",
   "version": "3.7.6"
  }
 },
 "nbformat": 4,
 "nbformat_minor": 4
}
